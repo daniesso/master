{
 "cells": [
  {
   "cell_type": "code",
   "execution_count": 1,
   "metadata": {
    "scrolled": false
   },
   "outputs": [
    {
     "name": "stderr",
     "output_type": "stream",
     "text": [
      "/home/daniel/anaconda3/lib/python3.6/site-packages/h5py/__init__.py:36: FutureWarning: Conversion of the second argument of issubdtype from `float` to `np.floating` is deprecated. In future, it will be treated as `np.float64 == np.dtype(float).type`.\n",
      "  from ._conv import register_converters as _register_converters\n"
     ]
    }
   ],
   "source": [
    "import matplotlib.pyplot as plt\n",
    "import tensorflow as tf\n",
    "import tensorflow_addons as tfa\n",
    "import numpy as np \n",
    "import time\n",
    "import random\n",
    "import os\n",
    "import json\n",
    "import scipy.spatial.distance\n",
    "from models.rnnpb import RNNPB\n",
    "from models.rnnpbnmt import RNNPBNMT\n",
    "from misc.dataset import Dataset\n",
    "from sklearn.decomposition import PCA\n",
    "from sklearn.model_selection import train_test_split\n",
    "from matplotlib.lines import Line2D"
   ]
  },
  {
   "cell_type": "code",
   "execution_count": 2,
   "metadata": {},
   "outputs": [],
   "source": [
    "checkp = \"ckpt1.85-36\"\n",
    "working_dir = \"saves/resetdropout/rnnpb50000-0.20-0.30/\""
   ]
  },
  {
   "cell_type": "code",
   "execution_count": 3,
   "metadata": {},
   "outputs": [
    {
     "name": "stdout",
     "output_type": "stream",
     "text": [
      "ckpt1.85-36.data-00000-of-00002  ckpt1.85-36.index\r\n",
      "ckpt1.85-36.data-00001-of-00002\r\n"
     ]
    }
   ],
   "source": [
    "!ls saves/resetdropout/rnnpb50000-0.20-0.30/checkpoints/"
   ]
  },
  {
   "cell_type": "code",
   "execution_count": 4,
   "metadata": {},
   "outputs": [],
   "source": [
    "data = Dataset(\"data/autoenc/easy50000/dev.en\", \"data/autoenc/easy50000/dev.en\", 1, \n",
    "               vocab = os.path.join(working_dir, \"vocab\"), shuffle=False)"
   ]
  },
  {
   "cell_type": "code",
   "execution_count": 5,
   "metadata": {},
   "outputs": [],
   "source": [
    "with open(os.path.join(working_dir, \"model.json\"), \"r\") as f:\n",
    "    model_json = json.loads(f.read())\n",
    "\n",
    "model_name = model_json[\"model_name\"]\n",
    "model_params = model_json[\"model_params\"]\n",
    "\n",
    "model = RNNPBNMT(vocab1_size = data.first.vocab_size, vocab2_size = data.second.vocab_size, working_dir=working_dir, **model_params)"
   ]
  },
  {
   "cell_type": "code",
   "execution_count": 6,
   "metadata": {},
   "outputs": [],
   "source": [
    "ckpts = os.listdir(os.path.join(working_dir, \"checkpoints\"))\n",
    "#ckpts.remove('checkpoint')\n",
    "#ckpts = {x for x in ckpts if 'index' not in x}\n",
    "#ckpts = {x.split('.data', 1)[0] for x in ckpts}\n",
    "#ckpt_best = min(ckpts, key = lambda x : float(x.lstrip('ckpt').split('-')[0]))\n",
    "#ckpt_newest = max(ckpts, key = lambda x : int(x.split('-')[-1]))\n"
   ]
  },
  {
   "cell_type": "code",
   "execution_count": 7,
   "metadata": {},
   "outputs": [
    {
     "name": "stdout",
     "output_type": "stream",
     "text": [
      "Restored ckpt1.85-36 from possible ['ckpt1.85-36.data-00000-of-00002', 'ckpt1.85-36.data-00001-of-00002', 'ckpt1.85-36.index']\n"
     ]
    },
    {
     "data": {
      "text/plain": [
       "<tensorflow.python.training.tracking.util.CheckpointLoadStatus at 0x7fae69cb6128>"
      ]
     },
     "execution_count": 7,
     "metadata": {},
     "output_type": "execute_result"
    }
   ],
   "source": [
    "checkpoint = model.get_checkp()\n",
    "checkpoint = tf.train.Checkpoint(**checkpoint)\n",
    "\n",
    "#assert ckpt_newest is not None\n",
    "#assert ckpt_best is not None\n",
    "\n",
    "ckpt = checkp\n",
    "\n",
    "print(\"Restored {} from possible {}\".format(ckpt, ckpts))\n",
    "checkpoint.restore(os.path.join(working_dir, \"checkpoints\", ckpt))"
   ]
  },
  {
   "cell_type": "code",
   "execution_count": 8,
   "metadata": {},
   "outputs": [],
   "source": [
    "def sentence_to_tensor(s, w2idx):\n",
    "    s = [w2idx.get(w, w2idx[\"<UNK>\"]) for w in s.split(\" \")]\n",
    "    x = tf.convert_to_tensor(s)\n",
    "    return x\n",
    "\n",
    "def tensor_to_sentence(x, idx2w):\n",
    "    return \" \".join(idx2w[i] for i in x)\n",
    "\n",
    "def translate(A, B, x, B_idx2w, eps=0.0001, return_pb = False):\n",
    "    x = tf.expand_dims(x, 0)\n",
    "    \n",
    "    pb = A.recognize(x, eps = eps)[0]\n",
    "    y = B.generate(pb, max_length = round(1.5 * len(x[0])), start=START, end=END)\n",
    "    \n",
    "    s = tensor_to_sentence(y, B_idx2w)\n",
    "    return (s, pb[0]) if return_pb else s\n"
   ]
  },
  {
   "cell_type": "code",
   "execution_count": 9,
   "metadata": {},
   "outputs": [],
   "source": [
    "colors = ['red', 'blue', 'green', 'black', 'orange', 'purple', 'pink', 'gray' ,'cyan', 'magenta']\n",
    "def plot_pbs(A_pbs, B_pbs, plot_zero = False):\n",
    "\n",
    "    pb_dim = A_pbs.shape[1]\n",
    "\n",
    "    pca = PCA(n_components = 2)\n",
    "    pca.fit(np.concatenate([A_pbs, B_pbs]))\n",
    "\n",
    "    A_pbs, B_pbs = pca.transform(A_pbs), pca.transform(B_pbs)\n",
    "\n",
    "    for i in range(A_pbs.shape[0]):\n",
    "\n",
    "        color = colors[i]\n",
    "\n",
    "        for p, m in zip([A_pbs[i]],['o']):#, B_pbs[i]], ['o', 's']):\n",
    "            x, y = p\n",
    "\n",
    "            plt.scatter(x, y, c = color, marker=m)\n",
    "\n",
    "        legend_elements = [Line2D([0], [0], marker='o', color='w', label='A and B', markerfacecolor='white', markeredgecolor='black', markersize=7)]\n",
    "                           #Line2D([0], [0], marker='s', color='w', label='B', markerfacecolor='white', markeredgecolor='black', markersize=7)]\n",
    "        plt.legend(handles=legend_elements)\n",
    "\n",
    "    if plot_zero:\n",
    "        z = pca.transform(np.zeros((1, pb_dim)))\n",
    "        x, y = z[0]\n",
    "        plt.scatter(x, y, c='black', marker='+')\n",
    "    \n",
    "    #plt.savefig(\"autotrans_binding_{}.png\".format(binding), dpi=1000, bbox_inches = 'tight',\n",
    "    #pad_inches = 0.1)\n",
    "    plt.show()"
   ]
  },
  {
   "cell_type": "code",
   "execution_count": 10,
   "metadata": {
    "scrolled": true
   },
   "outputs": [
    {
     "name": "stderr",
     "output_type": "stream",
     "text": [
      "WARNING: Logging before flag parsing goes to stderr.\n",
      "W0702 14:59:38.931618 140388777658176 deprecation.py:323] From /home/daniel/venv/lib/python3.6/site-packages/tensorflow/python/keras/backend.py:3868: add_dispatch_support.<locals>.wrapper (from tensorflow.python.ops.array_ops) is deprecated and will be removed in a future version.\n",
      "Instructions for updating:\n",
      "Use tf.where in 2.0, which has the same broadcast rule as np.where\n"
     ]
    }
   ],
   "source": [
    "examples = [row for _, row in zip(range(10), data)]\n",
    "\n",
    "A_pbs = []\n",
    "B_pbs = []\n",
    "for X, X_length, Y, Y_length, ids in examples:\n",
    "    _, _, A_pb = model.A(X, ids)\n",
    "    A_pbs.append(A_pb[0])\n",
    "\n",
    "    _, _, B_pb = model.B(X, ids)\n",
    "    B_pbs.append(B_pb[0])"
   ]
  },
  {
   "cell_type": "code",
   "execution_count": 11,
   "metadata": {},
   "outputs": [],
   "source": [
    "A = np.array(A_pbs)\n",
    "B = np.array(B_pbs)"
   ]
  },
  {
   "cell_type": "code",
   "execution_count": 12,
   "metadata": {
    "scrolled": false
   },
   "outputs": [
    {
     "data": {
      "text/plain": [
       "<Figure size 360x360 with 0 Axes>"
      ]
     },
     "metadata": {},
     "output_type": "display_data"
    }
   ],
   "source": [
    "fig = plt.figure(num=1, figsize=(5, 5), frameon=False)\n",
    "#plot_pbs(A, B, plot_zero=True)"
   ]
  },
  {
   "cell_type": "code",
   "execution_count": 13,
   "metadata": {},
   "outputs": [],
   "source": [
    "all_A_pbs = model.A.pb_embedding.get_weights()[0]\n",
    "all_B_pbs = model.B.pb_embedding.get_weights()[0]"
   ]
  },
  {
   "cell_type": "code",
   "execution_count": 14,
   "metadata": {},
   "outputs": [
    {
     "name": "stdout",
     "output_type": "stream",
     "text": [
      "Dist origin to centroid: 0.058784325\n",
      "Mean distance from centroid: 2.4642863\n",
      "Max distance from centroid: 10.937766\n"
     ]
    }
   ],
   "source": [
    "model.A.print_pb_stats()"
   ]
  },
  {
   "cell_type": "code",
   "execution_count": 15,
   "metadata": {},
   "outputs": [
    {
     "name": "stdout",
     "output_type": "stream",
     "text": [
      "Dist origin to centroid: 0.058784325\n",
      "Mean distance from centroid: 2.4642863\n",
      "Max distance from centroid: 10.937766\n"
     ]
    }
   ],
   "source": [
    "model.B.print_pb_stats()"
   ]
  },
  {
   "cell_type": "code",
   "execution_count": 16,
   "metadata": {},
   "outputs": [],
   "source": [
    "trained = np.where(np.logical_not(np.all(all_A_pbs == 0, axis = 1)))[0]\n",
    "\n",
    "all_A_pbs = all_A_pbs[trained]\n",
    "all_B_pbs = all_B_pbs[trained]"
   ]
  },
  {
   "cell_type": "code",
   "execution_count": 17,
   "metadata": {},
   "outputs": [],
   "source": [
    "some_A = all_A_pbs[np.random.randint(0, all_A_pbs.shape[0], 1000)]\n",
    "some_B = all_B_pbs[np.random.randint(0, all_B_pbs.shape[0], 1000)]"
   ]
  },
  {
   "cell_type": "code",
   "execution_count": 18,
   "metadata": {},
   "outputs": [],
   "source": [
    "#pair_dist = np.mean(np.sqrt(np.sum((all_A_pbs - all_B_pbs) ** 2, axis=1)))\n",
    "#mean_dist = np.mean(scipy.spatial.distance.cdist(some_A, some_B))"
   ]
  },
  {
   "cell_type": "code",
   "execution_count": 19,
   "metadata": {},
   "outputs": [],
   "source": [
    "#print(pair_dist, mean_dist)"
   ]
  },
  {
   "cell_type": "code",
   "execution_count": 20,
   "metadata": {},
   "outputs": [],
   "source": [
    "def recognize(self, X, eps = 0.0001, early_stop_steps = 3, iters = None, step = None, max_iters=500):\n",
    "    X_inputs = X[:, :-1]\n",
    "    X_targets = X[:, 1:]\n",
    "    X_mask = 1 - np.equal(X_targets, 0)\n",
    "\n",
    "    batch_size = X.shape[0]\n",
    "\n",
    "    pbs = tf.Variable(tf.zeros((batch_size, self.num_PB)))\n",
    "\n",
    "    losses = []\n",
    "    n = 0\n",
    "\n",
    "    optimizer = tfa.optimizers.LazyAdam(self.pb_lr)\n",
    "\n",
    "    pbs_list = []\n",
    "    grads = []\n",
    "\n",
    "    stagnation_steps = 0\n",
    "    best_loss = float('inf')\n",
    "    while n < iters if iters is not None else stagnation_steps < early_stop_steps and n < max_iters:\n",
    "\n",
    "        with tf.GradientTape() as tape:\n",
    "            X_outputs, _, _= self(X_inputs, pbs=pbs)\n",
    "\n",
    "            X_loss = tf.nn.sparse_softmax_cross_entropy_with_logits(labels = X_targets, logits=X_outputs) * X_mask\n",
    "            X_loss = tf.reduce_mean(tf.reduce_sum(X_loss, axis = 1))\n",
    "\n",
    "        variables = [pbs]\n",
    "        gradients = tape.gradient(X_loss, variables)\n",
    "        gradients, _ = tf.clip_by_global_norm(gradients, self.gradient_clip)\n",
    "        optimizer.apply_gradients(zip(gradients, variables))\n",
    "\n",
    "        if n % 100 == 0:\n",
    "            print(\"Recognition iteration {} Loss {:.3f}\".format(n, X_loss))\n",
    "\n",
    "        if step is not None and n % step == 0:\n",
    "            pbs_list.append(pbs.numpy())\n",
    "            grads.append(float(tf.math.sqrt(tf.reduce_sum(gradients[0]**2))))\n",
    "\n",
    "        if X_loss < best_loss - eps:\n",
    "            best_loss = X_loss\n",
    "            stagnation_steps = 0\n",
    "        else:\n",
    "            stagnation_steps += 1\n",
    "\n",
    "        n += 1\n",
    "\n",
    "    print(\"Recognition finished, iteration {} Loss {:.3f}\".format(n, X_loss))\n",
    "\n",
    "    return pbs if step is None else pbs_list, grads\n",
    "\n",
    "\n",
    "def recognition_perplexities(x, x_lengths):\n",
    "    B_X = x[:, :-1]\n",
    "    B_Y = x[:, 1:]\n",
    "    pbs, gradients = recognize(model.A, x, iters=200, step=1)\n",
    "    perplexities = []\n",
    "    for pb in pbs:\n",
    "        \n",
    "        logits, _, _ = model.B(B_X, pbs=pb)\n",
    "        \n",
    "        _, perplexity = model.loss(targets=B_Y, logits=logits, target_lengths=x_lengths - 1)\n",
    "        \n",
    "        perplexities.append(float(perplexity))\n",
    "    \n",
    "    return perplexities, gradients"
   ]
  },
  {
   "cell_type": "code",
   "execution_count": 21,
   "metadata": {
    "scrolled": true
   },
   "outputs": [
    {
     "name": "stdout",
     "output_type": "stream",
     "text": [
      "Recognition iteration 0 Loss 13.994\n",
      "Recognition iteration 100 Loss 0.000\n",
      "Recognition finished, iteration 200 Loss 0.000\n",
      "Recognition iteration 0 Loss 23.024\n",
      "Recognition iteration 100 Loss 0.002\n",
      "Recognition finished, iteration 200 Loss 0.001\n",
      "Recognition iteration 0 Loss 18.061\n",
      "Recognition iteration 100 Loss 0.001\n",
      "Recognition finished, iteration 200 Loss 0.001\n",
      "Recognition iteration 0 Loss 23.945\n",
      "Recognition iteration 100 Loss 0.001\n",
      "Recognition finished, iteration 200 Loss 0.000\n",
      "Recognition iteration 0 Loss 11.672\n",
      "Recognition iteration 100 Loss 0.000\n",
      "Recognition finished, iteration 200 Loss 0.000\n",
      "Recognition iteration 0 Loss 17.115\n",
      "Recognition iteration 100 Loss 0.000\n",
      "Recognition finished, iteration 200 Loss 0.000\n",
      "Recognition iteration 0 Loss 21.538\n",
      "Recognition iteration 100 Loss 0.000\n",
      "Recognition finished, iteration 200 Loss 0.000\n",
      "Recognition iteration 0 Loss 18.680\n",
      "Recognition iteration 100 Loss 0.000\n",
      "Recognition finished, iteration 200 Loss 0.000\n",
      "Recognition iteration 0 Loss 21.153\n",
      "Recognition iteration 100 Loss 0.001\n",
      "Recognition finished, iteration 200 Loss 0.000\n",
      "Recognition iteration 0 Loss 69.241\n",
      "Recognition iteration 100 Loss 0.046\n",
      "Recognition finished, iteration 200 Loss 0.021\n",
      "Recognition iteration 0 Loss 22.308\n",
      "Recognition iteration 100 Loss 0.002\n",
      "Recognition finished, iteration 200 Loss 0.001\n",
      "Recognition iteration 0 Loss 12.554\n",
      "Recognition iteration 100 Loss 0.000\n",
      "Recognition finished, iteration 200 Loss 0.000\n",
      "Recognition iteration 0 Loss 31.139\n",
      "Recognition iteration 100 Loss 0.002\n",
      "Recognition finished, iteration 200 Loss 0.001\n",
      "Recognition iteration 0 Loss 35.507\n",
      "Recognition iteration 100 Loss 0.009\n",
      "Recognition finished, iteration 200 Loss 0.005\n",
      "Recognition iteration 0 Loss 13.393\n",
      "Recognition iteration 100 Loss 0.000\n",
      "Recognition finished, iteration 200 Loss 0.000\n",
      "Recognition iteration 0 Loss 35.876\n",
      "Recognition iteration 100 Loss 0.001\n",
      "Recognition finished, iteration 200 Loss 0.001\n",
      "Recognition iteration 0 Loss 13.170\n",
      "Recognition iteration 100 Loss 0.000\n",
      "Recognition finished, iteration 200 Loss 0.000\n",
      "Recognition iteration 0 Loss 28.363\n",
      "Recognition iteration 100 Loss 0.001\n",
      "Recognition finished, iteration 200 Loss 0.001\n",
      "Recognition iteration 0 Loss 20.414\n",
      "Recognition iteration 100 Loss 0.001\n",
      "Recognition finished, iteration 200 Loss 0.001\n",
      "Recognition iteration 0 Loss 13.672\n",
      "Recognition iteration 100 Loss 0.000\n",
      "Recognition finished, iteration 200 Loss 0.000\n",
      "Recognition iteration 0 Loss 12.579\n",
      "Recognition iteration 100 Loss 0.000\n",
      "Recognition finished, iteration 200 Loss 0.000\n",
      "Recognition iteration 0 Loss 13.338\n",
      "Recognition iteration 100 Loss 0.001\n",
      "Recognition finished, iteration 200 Loss 0.000\n",
      "Recognition iteration 0 Loss 10.338\n",
      "Recognition iteration 100 Loss 0.000\n",
      "Recognition finished, iteration 200 Loss 0.000\n",
      "Recognition iteration 0 Loss 24.583\n",
      "Recognition iteration 100 Loss 0.004\n",
      "Recognition finished, iteration 200 Loss 0.002\n",
      "Recognition iteration 0 Loss 10.759\n",
      "Recognition iteration 100 Loss 0.000\n",
      "Recognition finished, iteration 200 Loss 0.000\n",
      "Recognition iteration 0 Loss 18.469\n",
      "Recognition iteration 100 Loss 0.001\n",
      "Recognition finished, iteration 200 Loss 0.000\n",
      "Recognition iteration 0 Loss 14.895\n",
      "Recognition iteration 100 Loss 0.001\n",
      "Recognition finished, iteration 200 Loss 0.000\n",
      "Recognition iteration 0 Loss 16.609\n",
      "Recognition iteration 100 Loss 0.000\n",
      "Recognition finished, iteration 200 Loss 0.000\n",
      "Recognition iteration 0 Loss 16.714\n",
      "Recognition iteration 100 Loss 0.001\n",
      "Recognition finished, iteration 200 Loss 0.000\n",
      "Recognition iteration 0 Loss 28.130\n",
      "Recognition iteration 100 Loss 0.001\n",
      "Recognition finished, iteration 200 Loss 0.001\n",
      "Recognition iteration 0 Loss 17.147\n",
      "Recognition iteration 100 Loss 0.000\n",
      "Recognition finished, iteration 200 Loss 0.000\n",
      "Recognition iteration 0 Loss 18.353\n",
      "Recognition iteration 100 Loss 0.001\n",
      "Recognition finished, iteration 200 Loss 0.000\n",
      "Recognition iteration 0 Loss 13.745\n",
      "Recognition iteration 100 Loss 0.000\n",
      "Recognition finished, iteration 200 Loss 0.000\n",
      "Recognition iteration 0 Loss 19.146\n",
      "Recognition iteration 100 Loss 0.001\n",
      "Recognition finished, iteration 200 Loss 0.000\n",
      "Recognition iteration 0 Loss 48.454\n",
      "Recognition iteration 100 Loss 0.007\n",
      "Recognition finished, iteration 200 Loss 0.004\n",
      "Recognition iteration 0 Loss 14.731\n",
      "Recognition iteration 100 Loss 0.000\n",
      "Recognition finished, iteration 200 Loss 0.000\n",
      "Recognition iteration 0 Loss 23.271\n",
      "Recognition iteration 100 Loss 0.000\n",
      "Recognition finished, iteration 200 Loss 0.000\n",
      "Recognition iteration 0 Loss 31.027\n",
      "Recognition iteration 100 Loss 0.004\n",
      "Recognition finished, iteration 200 Loss 0.002\n",
      "Recognition iteration 0 Loss 42.761\n",
      "Recognition iteration 100 Loss 0.004\n",
      "Recognition finished, iteration 200 Loss 0.002\n",
      "Recognition iteration 0 Loss 17.348\n",
      "Recognition iteration 100 Loss 0.000\n",
      "Recognition finished, iteration 200 Loss 0.000\n",
      "Recognition iteration 0 Loss 22.596\n",
      "Recognition iteration 100 Loss 0.000\n",
      "Recognition finished, iteration 200 Loss 0.000\n",
      "Recognition iteration 0 Loss 21.024\n",
      "Recognition iteration 100 Loss 0.001\n",
      "Recognition finished, iteration 200 Loss 0.000\n",
      "Recognition iteration 0 Loss 30.233\n",
      "Recognition iteration 100 Loss 0.003\n",
      "Recognition finished, iteration 200 Loss 0.001\n",
      "Recognition iteration 0 Loss 19.218\n",
      "Recognition iteration 100 Loss 0.001\n",
      "Recognition finished, iteration 200 Loss 0.000\n",
      "Recognition iteration 0 Loss 13.434\n",
      "Recognition iteration 100 Loss 0.000\n",
      "Recognition finished, iteration 200 Loss 0.000\n",
      "Recognition iteration 0 Loss 20.783\n",
      "Recognition iteration 100 Loss 0.000\n",
      "Recognition finished, iteration 200 Loss 0.000\n",
      "Recognition iteration 0 Loss 49.992\n",
      "Recognition iteration 100 Loss 0.019\n",
      "Recognition finished, iteration 200 Loss 0.010\n",
      "Recognition iteration 0 Loss 21.458\n",
      "Recognition iteration 100 Loss 0.001\n",
      "Recognition finished, iteration 200 Loss 0.001\n",
      "Recognition iteration 0 Loss 13.808\n",
      "Recognition iteration 100 Loss 0.000\n",
      "Recognition finished, iteration 200 Loss 0.000\n",
      "Recognition iteration 0 Loss 26.084\n",
      "Recognition iteration 100 Loss 0.001\n",
      "Recognition finished, iteration 200 Loss 0.001\n",
      "Recognition iteration 0 Loss 13.392\n",
      "Recognition iteration 100 Loss 0.000\n",
      "Recognition finished, iteration 200 Loss 0.000\n",
      "Recognition iteration 0 Loss 30.226\n",
      "Recognition iteration 100 Loss 0.004\n",
      "Recognition finished, iteration 200 Loss 0.002\n",
      "Recognition iteration 0 Loss 17.039\n",
      "Recognition iteration 100 Loss 0.000\n",
      "Recognition finished, iteration 200 Loss 0.000\n",
      "Recognition iteration 0 Loss 15.290\n",
      "Recognition iteration 100 Loss 0.000\n",
      "Recognition finished, iteration 200 Loss 0.000\n",
      "Recognition iteration 0 Loss 18.314\n",
      "Recognition iteration 100 Loss 0.000\n",
      "Recognition finished, iteration 200 Loss 0.000\n",
      "Recognition iteration 0 Loss 12.555\n",
      "Recognition iteration 100 Loss 0.000\n",
      "Recognition finished, iteration 200 Loss 0.000\n",
      "Recognition iteration 0 Loss 16.633\n",
      "Recognition iteration 100 Loss 0.000\n",
      "Recognition finished, iteration 200 Loss 0.000\n",
      "Recognition iteration 0 Loss 15.780\n",
      "Recognition iteration 100 Loss 0.000\n",
      "Recognition finished, iteration 200 Loss 0.000\n",
      "Recognition iteration 0 Loss 12.580\n",
      "Recognition iteration 100 Loss 0.001\n",
      "Recognition finished, iteration 200 Loss 0.000\n",
      "Recognition iteration 0 Loss 12.269\n",
      "Recognition iteration 100 Loss 0.000\n",
      "Recognition finished, iteration 200 Loss 0.000\n",
      "Recognition iteration 0 Loss 13.937\n",
      "Recognition iteration 100 Loss 0.000\n",
      "Recognition finished, iteration 200 Loss 0.000\n",
      "Recognition iteration 0 Loss 29.070\n",
      "Recognition iteration 100 Loss 0.002\n",
      "Recognition finished, iteration 200 Loss 0.001\n",
      "Recognition iteration 0 Loss 20.751\n",
      "Recognition iteration 100 Loss 0.001\n",
      "Recognition finished, iteration 200 Loss 0.000\n",
      "Recognition iteration 0 Loss 23.341\n",
      "Recognition iteration 100 Loss 0.000\n",
      "Recognition finished, iteration 200 Loss 0.000\n",
      "Recognition iteration 0 Loss 17.515\n",
      "Recognition iteration 100 Loss 0.001\n",
      "Recognition finished, iteration 200 Loss 0.000\n",
      "Recognition iteration 0 Loss 30.878\n",
      "Recognition iteration 100 Loss 0.001\n",
      "Recognition finished, iteration 200 Loss 0.001\n",
      "Recognition iteration 0 Loss 12.395\n",
      "Recognition iteration 100 Loss 0.000\n",
      "Recognition finished, iteration 200 Loss 0.000\n",
      "Recognition iteration 0 Loss 45.963\n",
      "Recognition iteration 100 Loss 0.014\n",
      "Recognition finished, iteration 200 Loss 0.007\n",
      "Recognition iteration 0 Loss 19.313\n"
     ]
    },
    {
     "name": "stdout",
     "output_type": "stream",
     "text": [
      "Recognition iteration 100 Loss 0.000\n",
      "Recognition finished, iteration 200 Loss 0.000\n",
      "Recognition iteration 0 Loss 23.680\n",
      "Recognition iteration 100 Loss 0.001\n",
      "Recognition finished, iteration 200 Loss 0.001\n",
      "Recognition iteration 0 Loss 16.948\n",
      "Recognition iteration 100 Loss 0.000\n",
      "Recognition finished, iteration 200 Loss 0.000\n",
      "Recognition iteration 0 Loss 15.990\n"
     ]
    },
    {
     "ename": "KeyboardInterrupt",
     "evalue": "",
     "output_type": "error",
     "traceback": [
      "\u001b[0;31m---------------------------------------------------------------------------\u001b[0m",
      "\u001b[0;31mKeyboardInterrupt\u001b[0m                         Traceback (most recent call last)",
      "\u001b[0;32m<ipython-input-21-b83074203960>\u001b[0m in \u001b[0;36m<module>\u001b[0;34m()\u001b[0m\n\u001b[1;32m      5\u001b[0m \u001b[0mN\u001b[0m \u001b[0;34m=\u001b[0m \u001b[0;36m256\u001b[0m\u001b[0;34m\u001b[0m\u001b[0m\n\u001b[1;32m      6\u001b[0m \u001b[0;32mfor\u001b[0m \u001b[0mi\u001b[0m\u001b[0;34m,\u001b[0m \u001b[0;34m(\u001b[0m\u001b[0mx\u001b[0m\u001b[0;34m,\u001b[0m \u001b[0mx_lengths\u001b[0m\u001b[0;34m,\u001b[0m \u001b[0m_\u001b[0m\u001b[0;34m,\u001b[0m \u001b[0m_\u001b[0m\u001b[0;34m,\u001b[0m \u001b[0m_\u001b[0m\u001b[0;34m)\u001b[0m \u001b[0;32min\u001b[0m \u001b[0mzip\u001b[0m\u001b[0;34m(\u001b[0m\u001b[0mrange\u001b[0m\u001b[0;34m(\u001b[0m\u001b[0mN\u001b[0m\u001b[0;34m)\u001b[0m\u001b[0;34m,\u001b[0m \u001b[0mdata\u001b[0m\u001b[0;34m)\u001b[0m\u001b[0;34m:\u001b[0m\u001b[0;34m\u001b[0m\u001b[0m\n\u001b[0;32m----> 7\u001b[0;31m     \u001b[0mperp\u001b[0m\u001b[0;34m,\u001b[0m \u001b[0mgrad\u001b[0m \u001b[0;34m=\u001b[0m \u001b[0mrecognition_perplexities\u001b[0m\u001b[0;34m(\u001b[0m\u001b[0mx\u001b[0m\u001b[0;34m,\u001b[0m \u001b[0mx_lengths\u001b[0m\u001b[0;34m)\u001b[0m\u001b[0;34m\u001b[0m\u001b[0m\n\u001b[0m\u001b[1;32m      8\u001b[0m     \u001b[0mperps\u001b[0m\u001b[0;34m.\u001b[0m\u001b[0mappend\u001b[0m\u001b[0;34m(\u001b[0m\u001b[0mperp\u001b[0m\u001b[0;34m)\u001b[0m\u001b[0;34m\u001b[0m\u001b[0m\n\u001b[1;32m      9\u001b[0m     \u001b[0mgrads\u001b[0m\u001b[0;34m.\u001b[0m\u001b[0mappend\u001b[0m\u001b[0;34m(\u001b[0m\u001b[0mgrad\u001b[0m\u001b[0;34m)\u001b[0m\u001b[0;34m\u001b[0m\u001b[0m\n",
      "\u001b[0;32m<ipython-input-20-17408b88871b>\u001b[0m in \u001b[0;36mrecognition_perplexities\u001b[0;34m(x, x_lengths)\u001b[0m\n\u001b[1;32m     54\u001b[0m     \u001b[0mB_X\u001b[0m \u001b[0;34m=\u001b[0m \u001b[0mx\u001b[0m\u001b[0;34m[\u001b[0m\u001b[0;34m:\u001b[0m\u001b[0;34m,\u001b[0m \u001b[0;34m:\u001b[0m\u001b[0;34m-\u001b[0m\u001b[0;36m1\u001b[0m\u001b[0;34m]\u001b[0m\u001b[0;34m\u001b[0m\u001b[0m\n\u001b[1;32m     55\u001b[0m     \u001b[0mB_Y\u001b[0m \u001b[0;34m=\u001b[0m \u001b[0mx\u001b[0m\u001b[0;34m[\u001b[0m\u001b[0;34m:\u001b[0m\u001b[0;34m,\u001b[0m \u001b[0;36m1\u001b[0m\u001b[0;34m:\u001b[0m\u001b[0;34m]\u001b[0m\u001b[0;34m\u001b[0m\u001b[0m\n\u001b[0;32m---> 56\u001b[0;31m     \u001b[0mpbs\u001b[0m\u001b[0;34m,\u001b[0m \u001b[0mgradients\u001b[0m \u001b[0;34m=\u001b[0m \u001b[0mrecognize\u001b[0m\u001b[0;34m(\u001b[0m\u001b[0mmodel\u001b[0m\u001b[0;34m.\u001b[0m\u001b[0mA\u001b[0m\u001b[0;34m,\u001b[0m \u001b[0mx\u001b[0m\u001b[0;34m,\u001b[0m \u001b[0miters\u001b[0m\u001b[0;34m=\u001b[0m\u001b[0;36m200\u001b[0m\u001b[0;34m,\u001b[0m \u001b[0mstep\u001b[0m\u001b[0;34m=\u001b[0m\u001b[0;36m1\u001b[0m\u001b[0;34m)\u001b[0m\u001b[0;34m\u001b[0m\u001b[0m\n\u001b[0m\u001b[1;32m     57\u001b[0m     \u001b[0mperplexities\u001b[0m \u001b[0;34m=\u001b[0m \u001b[0;34m[\u001b[0m\u001b[0;34m]\u001b[0m\u001b[0;34m\u001b[0m\u001b[0m\n\u001b[1;32m     58\u001b[0m     \u001b[0;32mfor\u001b[0m \u001b[0mpb\u001b[0m \u001b[0;32min\u001b[0m \u001b[0mpbs\u001b[0m\u001b[0;34m:\u001b[0m\u001b[0;34m\u001b[0m\u001b[0m\n",
      "\u001b[0;32m<ipython-input-20-17408b88871b>\u001b[0m in \u001b[0;36mrecognize\u001b[0;34m(self, X, eps, early_stop_steps, iters, step, max_iters)\u001b[0m\n\u001b[1;32m     27\u001b[0m \u001b[0;34m\u001b[0m\u001b[0m\n\u001b[1;32m     28\u001b[0m         \u001b[0mvariables\u001b[0m \u001b[0;34m=\u001b[0m \u001b[0;34m[\u001b[0m\u001b[0mpbs\u001b[0m\u001b[0;34m]\u001b[0m\u001b[0;34m\u001b[0m\u001b[0m\n\u001b[0;32m---> 29\u001b[0;31m         \u001b[0mgradients\u001b[0m \u001b[0;34m=\u001b[0m \u001b[0mtape\u001b[0m\u001b[0;34m.\u001b[0m\u001b[0mgradient\u001b[0m\u001b[0;34m(\u001b[0m\u001b[0mX_loss\u001b[0m\u001b[0;34m,\u001b[0m \u001b[0mvariables\u001b[0m\u001b[0;34m)\u001b[0m\u001b[0;34m\u001b[0m\u001b[0m\n\u001b[0m\u001b[1;32m     30\u001b[0m         \u001b[0mgradients\u001b[0m\u001b[0;34m,\u001b[0m \u001b[0m_\u001b[0m \u001b[0;34m=\u001b[0m \u001b[0mtf\u001b[0m\u001b[0;34m.\u001b[0m\u001b[0mclip_by_global_norm\u001b[0m\u001b[0;34m(\u001b[0m\u001b[0mgradients\u001b[0m\u001b[0;34m,\u001b[0m \u001b[0mself\u001b[0m\u001b[0;34m.\u001b[0m\u001b[0mgradient_clip\u001b[0m\u001b[0;34m)\u001b[0m\u001b[0;34m\u001b[0m\u001b[0m\n\u001b[1;32m     31\u001b[0m         \u001b[0moptimizer\u001b[0m\u001b[0;34m.\u001b[0m\u001b[0mapply_gradients\u001b[0m\u001b[0;34m(\u001b[0m\u001b[0mzip\u001b[0m\u001b[0;34m(\u001b[0m\u001b[0mgradients\u001b[0m\u001b[0;34m,\u001b[0m \u001b[0mvariables\u001b[0m\u001b[0;34m)\u001b[0m\u001b[0;34m)\u001b[0m\u001b[0;34m\u001b[0m\u001b[0m\n",
      "\u001b[0;32m~/venv/lib/python3.6/site-packages/tensorflow/python/eager/backprop.py\u001b[0m in \u001b[0;36mgradient\u001b[0;34m(self, target, sources, output_gradients, unconnected_gradients)\u001b[0m\n\u001b[1;32m   1000\u001b[0m         \u001b[0moutput_gradients\u001b[0m\u001b[0;34m=\u001b[0m\u001b[0moutput_gradients\u001b[0m\u001b[0;34m,\u001b[0m\u001b[0;34m\u001b[0m\u001b[0m\n\u001b[1;32m   1001\u001b[0m         \u001b[0msources_raw\u001b[0m\u001b[0;34m=\u001b[0m\u001b[0mflat_sources_raw\u001b[0m\u001b[0;34m,\u001b[0m\u001b[0;34m\u001b[0m\u001b[0m\n\u001b[0;32m-> 1002\u001b[0;31m         unconnected_gradients=unconnected_gradients)\n\u001b[0m\u001b[1;32m   1003\u001b[0m \u001b[0;34m\u001b[0m\u001b[0m\n\u001b[1;32m   1004\u001b[0m     \u001b[0;32mif\u001b[0m \u001b[0;32mnot\u001b[0m \u001b[0mself\u001b[0m\u001b[0;34m.\u001b[0m\u001b[0m_persistent\u001b[0m\u001b[0;34m:\u001b[0m\u001b[0;34m\u001b[0m\u001b[0m\n",
      "\u001b[0;32m~/venv/lib/python3.6/site-packages/tensorflow/python/eager/imperative_grad.py\u001b[0m in \u001b[0;36mimperative_grad\u001b[0;34m(tape, target, sources, output_gradients, sources_raw, unconnected_gradients)\u001b[0m\n\u001b[1;32m     74\u001b[0m       \u001b[0moutput_gradients\u001b[0m\u001b[0;34m,\u001b[0m\u001b[0;34m\u001b[0m\u001b[0m\n\u001b[1;32m     75\u001b[0m       \u001b[0msources_raw\u001b[0m\u001b[0;34m,\u001b[0m\u001b[0;34m\u001b[0m\u001b[0m\n\u001b[0;32m---> 76\u001b[0;31m       compat.as_str(unconnected_gradients.value))\n\u001b[0m",
      "\u001b[0;32m~/venv/lib/python3.6/site-packages/tensorflow/python/eager/backprop.py\u001b[0m in \u001b[0;36m_aggregate_grads\u001b[0;34m(gradients)\u001b[0m\n\u001b[1;32m    584\u001b[0m \u001b[0;34m\u001b[0m\u001b[0m\n\u001b[1;32m    585\u001b[0m \u001b[0;34m\u001b[0m\u001b[0m\n\u001b[0;32m--> 586\u001b[0;31m \u001b[0;32mdef\u001b[0m \u001b[0m_aggregate_grads\u001b[0m\u001b[0;34m(\u001b[0m\u001b[0mgradients\u001b[0m\u001b[0;34m)\u001b[0m\u001b[0;34m:\u001b[0m\u001b[0;34m\u001b[0m\u001b[0m\n\u001b[0m\u001b[1;32m    587\u001b[0m   \"\"\"Aggregate gradients from multiple sources.\n\u001b[1;32m    588\u001b[0m \u001b[0;34m\u001b[0m\u001b[0m\n",
      "\u001b[0;31mKeyboardInterrupt\u001b[0m: "
     ]
    }
   ],
   "source": [
    "finals = []\n",
    "colors = ['red', 'blue', 'green', 'black', 'purple']\n",
    "perps = []\n",
    "grads = []\n",
    "N = 256\n",
    "for i, (x, x_lengths, _, _, _) in zip(range(N), data):\n",
    "    perp, grad = recognition_perplexities(x, x_lengths)\n",
    "    perps.append(perp)\n",
    "    grads.append(grad)\n",
    "    finals.append(perp[-1])\n",
    "print(finals)"
   ]
  },
  {
   "cell_type": "code",
   "execution_count": 23,
   "metadata": {},
   "outputs": [
    {
     "name": "stdout",
     "output_type": "stream",
     "text": [
      "Optimal:  83\n"
     ]
    }
   ],
   "source": [
    "opt = min(range(len(perp)), key = lambda i : sum(p[i] for p in perps))\n",
    "print(\"Optimal: \", opt)"
   ]
  },
  {
   "cell_type": "code",
   "execution_count": 29,
   "metadata": {},
   "outputs": [
    {
     "name": "stdout",
     "output_type": "stream",
     "text": [
      "Average perplexity:  2.049102010861249\n"
     ]
    }
   ],
   "source": [
    "print(\"Average perplexity: \",sum(p[opt] for p in perps)/len(perps))"
   ]
  },
  {
   "cell_type": "code",
   "execution_count": 32,
   "metadata": {},
   "outputs": [
    {
     "data": {
      "image/png": "[encoded data removed]",
      "text/plain": [
       "<Figure size 648x432 with 1 Axes>"
      ]
     },
     "metadata": {},
     "output_type": "display_data"
    }
   ],
   "source": [
    "fig = plt.figure(num=2, figsize=(9, 6))\n",
    "ax = fig.add_subplot(111)\n",
    "\n",
    "for i in range(N):\n",
    "    ax.plot(perps[i], color=colors[i])\n",
    "plt.ylim(0.9, 3)\n",
    "plt.xlabel(\"Recognition iterations\")\n",
    "plt.ylabel(\"Reference perplexity\")\n",
    "plt.savefig(\"recog_iters.png\", dpi=1000, bbox_inches = 'tight', pad_inches = 0.1)\n",
    "plt.show()"
   ]
  },
  {
   "cell_type": "code",
   "execution_count": null,
   "metadata": {},
   "outputs": [],
   "source": [
    "fig = plt.figure(num=2, figsize=(9, 6))\n",
    "ax = fig.add_subplot(111)\n",
    "\n",
    "for i in range(N):\n",
    "    ax.plot(perps[i][:50], color=colors[i])\n",
    "    ax.plot(grads[i][:50], color=colors[i], linestyle='--')\n",
    "plt.ylim(0, 3)\n",
    "plt.xlabel(\"Recognition iterations\")\n",
    "plt.ylabel(\"Reference perplexity / gradient norm\")\n",
    "\n",
    "leg2 = [Line2D([0], [0], label='Perplexity', markersize=7, color='black'),\n",
    "        Line2D([0], [0], label='Gradient norm', markersize=7, linestyle='dashed', color='black')]\n",
    "\n",
    "ax.legend(handles=leg2, loc='upper right')\n",
    "\n",
    "plt.savefig(\"recog_iters_grads.png\", dpi=1000, bbox_inches = 'tight', pad_inches = 0.1)\n",
    "plt.show()"
   ]
  }
 ],
 "metadata": {
  "kernelspec": {
   "display_name": "ipy-jupyter-venv",
   "language": "python",
   "name": "myipy_jupter_env"
  },
  "language_info": {
   "codemirror_mode": {
    "name": "ipython",
    "version": 3
   },
   "file_extension": ".py",
   "mimetype": "text/x-python",
   "name": "python",
   "nbconvert_exporter": "python",
   "pygments_lexer": "ipython3",
   "version": "3.6.5"
  }
 },
 "nbformat": 4,
 "nbformat_minor": 2
}
