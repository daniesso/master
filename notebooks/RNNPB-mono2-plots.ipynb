{
 "cells": [
  {
   "cell_type": "code",
   "execution_count": 1,
   "metadata": {
    "scrolled": false
   },
   "outputs": [
    {
     "name": "stderr",
     "output_type": "stream",
     "text": [
      "/home/daniel/anaconda3/lib/python3.6/site-packages/h5py/__init__.py:36: FutureWarning: Conversion of the second argument of issubdtype from `float` to `np.floating` is deprecated. In future, it will be treated as `np.float64 == np.dtype(float).type`.\n",
      "  from ._conv import register_converters as _register_converters\n"
     ]
    }
   ],
   "source": [
    "import matplotlib.pyplot as plt\n",
    "import tensorflow as tf\n",
    "import numpy as np \n",
    "import time\n",
    "import random\n",
    "import os\n",
    "import json\n",
    "import scipy.spatial.distance\n",
    "from models.rnnpb import RNNPB\n",
    "from models.rnnpbnmt import RNNPBNMT\n",
    "from misc.dataset import Dataset\n",
    "from sklearn.decomposition import PCA\n",
    "from sklearn.model_selection import train_test_split\n",
    "from matplotlib.lines import Line2D"
   ]
  },
  {
   "cell_type": "code",
   "execution_count": 2,
   "metadata": {},
   "outputs": [],
   "source": [
    "checkp = \"ckpt24.51-10\"\n",
    "binding = \"0.1\"\n",
    "working_dir = \"saves/bindingstrength/rnnpb50000-\" + binding"
   ]
  },
  {
   "cell_type": "code",
   "execution_count": 4,
   "metadata": {},
   "outputs": [
    {
     "name": "stdout",
     "output_type": "stream",
     "text": [
      "Can't load vocab. File doesn't exist.\n"
     ]
    },
    {
     "ename": "NameError",
     "evalue": "name 'exit' is not defined",
     "output_type": "error",
     "traceback": [
      "\u001b[0;31m---------------------------------------------------------------------------\u001b[0m",
      "\u001b[0;31mNameError\u001b[0m                                 Traceback (most recent call last)",
      "\u001b[0;32m<ipython-input-4-51f00d778e32>\u001b[0m in \u001b[0;36m<module>\u001b[0;34m()\u001b[0m\n\u001b[1;32m      1\u001b[0m data = Dataset(\"data/autoenc/easy50000/train.en\", \"data/autoenc/easy50000/train.en\", 1, \n\u001b[0;32m----> 2\u001b[0;31m                vocab = os.path.join(working_dir, \"vocab\"), shuffle=False)\n\u001b[0m",
      "\u001b[0;32m~/MasterThesis/misc/dataset.py\u001b[0m in \u001b[0;36m__init__\u001b[0;34m(self, path1, path2, batch_size, vocab1_max, vocab2_max, length_limit, sample, vocab, reverse_source, easy_subset, shuffle)\u001b[0m\n\u001b[1;32m     37\u001b[0m         \u001b[0;32melse\u001b[0m\u001b[0;34m:\u001b[0m\u001b[0;34m\u001b[0m\u001b[0m\n\u001b[1;32m     38\u001b[0m             \u001b[0;32mif\u001b[0m \u001b[0misinstance\u001b[0m\u001b[0;34m(\u001b[0m\u001b[0mvocab\u001b[0m\u001b[0;34m,\u001b[0m \u001b[0mstr\u001b[0m\u001b[0;34m)\u001b[0m\u001b[0;34m:\u001b[0m\u001b[0;34m\u001b[0m\u001b[0m\n\u001b[0;32m---> 39\u001b[0;31m                 \u001b[0mvocab\u001b[0m \u001b[0;34m=\u001b[0m \u001b[0mself\u001b[0m\u001b[0;34m.\u001b[0m\u001b[0mload_vocab\u001b[0m\u001b[0;34m(\u001b[0m\u001b[0mvocab\u001b[0m\u001b[0;34m)\u001b[0m\u001b[0;34m\u001b[0m\u001b[0m\n\u001b[0m\u001b[1;32m     40\u001b[0m \u001b[0;34m\u001b[0m\u001b[0m\n\u001b[1;32m     41\u001b[0m             \u001b[0mX\u001b[0m\u001b[0;34m,\u001b[0m \u001b[0mfirst\u001b[0m \u001b[0;34m=\u001b[0m \u001b[0mself\u001b[0m\u001b[0;34m.\u001b[0m\u001b[0mfrom_vocab\u001b[0m\u001b[0;34m(\u001b[0m\u001b[0mX\u001b[0m\u001b[0;34m,\u001b[0m \u001b[0mvocab\u001b[0m\u001b[0;34m[\u001b[0m\u001b[0;36m0\u001b[0m\u001b[0;34m]\u001b[0m\u001b[0;34m)\u001b[0m\u001b[0;34m\u001b[0m\u001b[0m\n",
      "\u001b[0;32m~/MasterThesis/misc/dataset.py\u001b[0m in \u001b[0;36mload_vocab\u001b[0;34m(self, vocab_path)\u001b[0m\n\u001b[1;32m    159\u001b[0m             \u001b[0mexit\u001b[0m\u001b[0;34m(\u001b[0m\u001b[0;36m1\u001b[0m\u001b[0;34m)\u001b[0m\u001b[0;34m\u001b[0m\u001b[0m\n\u001b[1;32m    160\u001b[0m \u001b[0;34m\u001b[0m\u001b[0m\n\u001b[0;32m--> 161\u001b[0;31m         \u001b[0;32mwith\u001b[0m \u001b[0mopen\u001b[0m\u001b[0;34m(\u001b[0m\u001b[0mvocab_path\u001b[0m\u001b[0;34m,\u001b[0m \u001b[0;34m\"wb\"\u001b[0m\u001b[0;34m)\u001b[0m \u001b[0;32mas\u001b[0m \u001b[0mf\u001b[0m\u001b[0;34m:\u001b[0m\u001b[0;34m\u001b[0m\u001b[0m\n\u001b[0m\u001b[1;32m    162\u001b[0m             \u001b[0mpickle\u001b[0m\u001b[0;34m.\u001b[0m\u001b[0mdump\u001b[0m\u001b[0;34m(\u001b[0m\u001b[0;34m(\u001b[0m\u001b[0mself\u001b[0m\u001b[0;34m.\u001b[0m\u001b[0mfirst\u001b[0m\u001b[0;34m,\u001b[0m \u001b[0mself\u001b[0m\u001b[0;34m.\u001b[0m\u001b[0msecond\u001b[0m\u001b[0;34m)\u001b[0m\u001b[0;34m,\u001b[0m \u001b[0mf\u001b[0m\u001b[0;34m)\u001b[0m\u001b[0;34m\u001b[0m\u001b[0m\n\u001b[1;32m    163\u001b[0m \u001b[0;34m\u001b[0m\u001b[0m\n",
      "\u001b[0;31mNameError\u001b[0m: name 'exit' is not defined"
     ]
    }
   ],
   "source": [
    "data = Dataset(\"data/autoenc/easy50000/train.en\", \"data/autoenc/easy50000/train.en\", 1, \n",
    "               vocab = os.path.join(working_dir, \"vocab\"), shuffle=False)"
   ]
  },
  {
   "cell_type": "code",
   "execution_count": null,
   "metadata": {},
   "outputs": [],
   "source": [
    "with open(os.path.join(working_dir, \"model.json\"), \"r\") as f:\n",
    "    model_json = json.loads(f.read())\n",
    "\n",
    "model_name = model_json[\"model_name\"]\n",
    "model_params = model_json[\"model_params\"]\n",
    "\n",
    "model = RNNPBNMT(vocab1_size = data.first.vocab_size, vocab2_size = data.second.vocab_size, working_dir=working_dir, **model_params)"
   ]
  },
  {
   "cell_type": "code",
   "execution_count": null,
   "metadata": {},
   "outputs": [],
   "source": [
    "checkpoint_path = os.path.join(working_dir, \"checkpoints\")\n",
    "ckpts = os.listdir(checkpoint_path)\n",
    "#ckpts.remove('checkpoint')\n",
    "#ckpts = {x for x in ckpts if 'index' not in x}\n",
    "#ckpts = {x.split('.data', 1)[0] for x in ckpts}\n",
    "#ckpt_best = min(ckpts, key = lambda x : float(x.lstrip('ckpt').split('-')[0]))\n",
    "#ckpt_newest = max(ckpts, key = lambda x : int(x.split('-')[-1]))\n"
   ]
  },
  {
   "cell_type": "code",
   "execution_count": null,
   "metadata": {},
   "outputs": [],
   "source": [
    "checkpoint = model.get_checkp()\n",
    "checkpoint = tf.train.Checkpoint(**checkpoint)\n",
    "\n",
    "#assert ckpt_newest is not None\n",
    "#assert ckpt_best is not None\n",
    "\n",
    "#ckpt = os.path.join(working_dir, \"checkpoints\", checkp)\n",
    "ckpt = tf.train.latest_checkpoint(checkpoint_path)\n",
    "assert ckpt is not None\n",
    "\n",
    "print(\"Restored {} from possible {}\".format(ckpt, ckpts))\n",
    "checkpoint.restore(ckpt)"
   ]
  },
  {
   "cell_type": "code",
   "execution_count": null,
   "metadata": {},
   "outputs": [],
   "source": [
    "def sentence_to_tensor(s, w2idx):\n",
    "    s = [w2idx.get(w, w2idx[\"<UNK>\"]) for w in s.split(\" \")]\n",
    "    x = tf.convert_to_tensor(s)\n",
    "    return x\n",
    "\n",
    "def tensor_to_sentence(x, idx2w):\n",
    "    return \" \".join(idx2w[i] for i in x)\n",
    "\n",
    "def translate(A, B, x, B_idx2w, eps=0.0001, return_pb = False):\n",
    "    x = tf.expand_dims(x, 0)\n",
    "    \n",
    "    pb = A.recognize(x, eps = eps)[0]\n",
    "    y = B.generate(pb, max_length = round(1.5 * len(x[0])), start=START, end=END)\n",
    "    \n",
    "    s = tensor_to_sentence(y, B_idx2w)\n",
    "    return (s, pb[0]) if return_pb else s\n"
   ]
  },
  {
   "cell_type": "code",
   "execution_count": 6,
   "metadata": {},
   "outputs": [],
   "source": [
    "colors = ['red', 'blue', 'green', 'black', 'orange', 'purple', 'pink', 'gray' ,'cyan', 'magenta']\n",
    "def plot_pbs(A_pbs, B_pbs, plot_zero = False):\n",
    "\n",
    "    pb_dim = A_pbs.shape[1]\n",
    "\n",
    "    pca = PCA(n_components = 2)\n",
    "    pca.fit(np.concatenate([A_pbs, B_pbs]))\n",
    "\n",
    "    A_pbs, B_pbs = pca.transform(A_pbs), pca.transform(B_pbs)\n",
    "\n",
    "    for i in range(A_pbs.shape[0]):\n",
    "\n",
    "        color = colors[i]\n",
    "\n",
    "        for p, m in zip([A_pbs[i], B_pbs[i]], ['o', 's']):\n",
    "            x, y = p\n",
    "\n",
    "            plt.scatter(x, y, c = color, marker=m)\n",
    "\n",
    "        legend_elements = [Line2D([0], [0], marker='o', color='w', label='A', markerfacecolor='white', markeredgecolor='black', markersize=7),\n",
    "                           Line2D([0], [0], marker='s', color='w', label='B', markerfacecolor='white', markeredgecolor='black', markersize=7)]\n",
    "        plt.legend(handles=legend_elements)\n",
    "\n",
    "    if plot_zero:\n",
    "        z = pca.transform(np.zeros((1, pb_dim)))\n",
    "        x, y = z[0]\n",
    "        plt.scatter(x, y, c='black', marker='+')\n",
    "    \n",
    "    plt.xlabel(\"First component\")\n",
    "    plt.ylabel(\"Second component\")\n",
    "    plt.savefig(\"autotrans_binding_{}.png\".format(binding), dpi=1000, bbox_inches = 'tight', pad_inches = 0.1)\n",
    "    plt.show()"
   ]
  },
  {
   "cell_type": "code",
   "execution_count": null,
   "metadata": {
    "scrolled": true
   },
   "outputs": [],
   "source": [
    "examples = [row for _, row in zip(range(10), data)]\n",
    "\n",
    "A_pbs = []\n",
    "B_pbs = []\n",
    "for X, X_length, Y, Y_length, ids in examples:\n",
    "    _, _, A_pb = model.A(X, ids)\n",
    "    A_pbs.append(A_pb[0])\n",
    "\n",
    "    _, _, B_pb = model.B(X, ids)\n",
    "    B_pbs.append(B_pb[0])"
   ]
  },
  {
   "cell_type": "code",
   "execution_count": null,
   "metadata": {},
   "outputs": [],
   "source": [
    "A = np.array(A_pbs)\n",
    "B = np.array(B_pbs)"
   ]
  },
  {
   "cell_type": "code",
   "execution_count": null,
   "metadata": {
    "scrolled": false
   },
   "outputs": [],
   "source": [
    "fig = plt.figure(num=1, figsize=(5, 5), frameon=False)\n",
    "plot_pbs(A, B, plot_zero=True)"
   ]
  },
  {
   "cell_type": "code",
   "execution_count": null,
   "metadata": {},
   "outputs": [],
   "source": [
    "all_A_pbs = model.A.pb_embedding.get_weights()[0]\n",
    "all_B_pbs = model.B.pb_embedding.get_weights()[0]"
   ]
  },
  {
   "cell_type": "code",
   "execution_count": null,
   "metadata": {},
   "outputs": [],
   "source": [
    "model.A.print_pb_stats()"
   ]
  },
  {
   "cell_type": "code",
   "execution_count": null,
   "metadata": {},
   "outputs": [],
   "source": [
    "model.B.print_pb_stats()"
   ]
  },
  {
   "cell_type": "code",
   "execution_count": null,
   "metadata": {},
   "outputs": [],
   "source": [
    "trained = np.where(np.logical_not(np.all(all_A_pbs == 0, axis = 1)))[0]\n",
    "\n",
    "all_A_pbs = all_A_pbs[trained]\n",
    "all_B_pbs = all_B_pbs[trained]"
   ]
  },
  {
   "cell_type": "code",
   "execution_count": null,
   "metadata": {},
   "outputs": [],
   "source": [
    "def calculate_dists(A, B):\n",
    "    \n",
    "    dists = []\n",
    "    for i in range(A.shape[0]):\n",
    "        dists.append(np.sqrt(np.sum((A - B[i]) ** 2, axis=1)))\n",
    "        if i % 100 == 0:\n",
    "            print(\"Iteration {}/{}\".format(i+1, A.shape[0]))\n",
    "    \n",
    "    return np.mean(dists)\n",
    "            "
   ]
  },
  {
   "cell_type": "code",
   "execution_count": null,
   "metadata": {},
   "outputs": [],
   "source": [
    "some_A = all_A_pbs[np.random.randint(0, all_A_pbs.shape[0], 10000)]\n",
    "some_B = all_B_pbs[np.random.randint(0, all_B_pbs.shape[0], 10000)]"
   ]
  },
  {
   "cell_type": "code",
   "execution_count": null,
   "metadata": {},
   "outputs": [],
   "source": [
    "pair_dist = np.mean(np.sqrt(np.sum((all_A_pbs - all_B_pbs) ** 2, axis=1)))\n",
    "mean_dist = np.mean(scipy.spatial.distance.cdist(some_A, some_B))"
   ]
  },
  {
   "cell_type": "code",
   "execution_count": null,
   "metadata": {},
   "outputs": [],
   "source": [
    "print(pair_dist, mean_dist)"
   ]
  },
  {
   "cell_type": "code",
   "execution_count": 14,
   "metadata": {
    "scrolled": true
   },
   "outputs": [
    {
     "name": "stderr",
     "output_type": "stream",
     "text": [
      "W0716 14:17:09.444339 139831039362880 legend.py:1384] No handles with labels found to put in legend.\n"
     ]
    },
    {
     "data": {
      "image/png": "[encoded data removed]",
      "text/plain": [
       "<Figure size 648x432 with 1 Axes>"
      ]
     },
     "metadata": {},
     "output_type": "display_data"
    }
   ],
   "source": [
    "fig = plt.figure(num=2, figsize=(9, 6))\n",
    "ax = fig.add_subplot(111)\n",
    "pref = \"saves/monoeasy/rnnpb50000-150epochs\"\n",
    "\n",
    "rnnpbs = [\"\"]\n",
    "for i, model in enumerate(rnnpbs):\n",
    "    model = pref + model\n",
    "    with open(os.path.join(model, \"training_stats.json\"), 'r') as f:\n",
    "        stats = json.loads(f.read())\n",
    "\n",
    "    dev_perps = stats['dev_perplexities']\n",
    "    training_perps = stats['epoch_perplexities']\n",
    "    \n",
    "    ax.semilogy(list(range(0, len(dev_perps)*2, 2)), dev_perps, color = \"black\", linestyle='dashed')\n",
    "    ax.semilogy(training_perps, color = \"black\", label=rnnpbs[i])\n",
    "    \n",
    "ax.hlines(1, 0, 150, linewidth=1, color='darkgray')\n",
    "\n",
    "leg1 = ax.legend()\n",
    "\n",
    "leg2 = [Line2D([0], [0], label='Validation', markersize=7, linestyle='dashed', color='black'),\n",
    "        Line2D([0], [0], label='Training', markersize=7, color='black')]\n",
    "\n",
    "ax.legend(handles=leg2, loc='upper center')\n",
    "\n",
    "#ax.add_artist(leg1)\n",
    "\n",
    "plt.xlabel(\"Epoch\")\n",
    "plt.ylabel(\"Perplexity\")\n",
    "\n",
    "plt.savefig(\"losses.png\", dpi=1000, bbox_inches = 'tight', pad_inches = 0.1)\n",
    "plt.show()"
   ]
  },
  {
   "cell_type": "code",
   "execution_count": null,
   "metadata": {},
   "outputs": [],
   "source": []
  }
 ],
 "metadata": {
  "kernelspec": {
   "display_name": "ipy-jupyter-venv",
   "language": "python",
   "name": "myipy_jupter_env"
  },
  "language_info": {
   "codemirror_mode": {
    "name": "ipython",
    "version": 3
   },
   "file_extension": ".py",
   "mimetype": "text/x-python",
   "name": "python",
   "nbconvert_exporter": "python",
   "pygments_lexer": "ipython3",
   "version": "3.6.5"
  }
 },
 "nbformat": 4,
 "nbformat_minor": 2
}
