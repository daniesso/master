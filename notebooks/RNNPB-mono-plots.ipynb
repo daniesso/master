{
 "cells": [
  {
   "cell_type": "code",
   "execution_count": 1,
   "metadata": {
    "scrolled": false
   },
   "outputs": [
    {
     "name": "stderr",
     "output_type": "stream",
     "text": [
      "/home/daniel/anaconda3/lib/python3.6/site-packages/h5py/__init__.py:36: FutureWarning: Conversion of the second argument of issubdtype from `float` to `np.floating` is deprecated. In future, it will be treated as `np.float64 == np.dtype(float).type`.\n",
      "  from ._conv import register_converters as _register_converters\n"
     ]
    }
   ],
   "source": [
    "import matplotlib.pyplot as plt\n",
    "import tensorflow as tf\n",
    "import numpy as np \n",
    "import time\n",
    "import random\n",
    "import os\n",
    "import json\n",
    "from models.rnnpb import RNNPB\n",
    "from models.rnnpbnmt import RNNPBNMT\n",
    "from misc.dataset import Dataset\n",
    "from sklearn.decomposition import PCA\n",
    "from sklearn.model_selection import train_test_split\n",
    "from matplotlib.lines import Line2D"
   ]
  },
  {
   "cell_type": "code",
   "execution_count": 2,
   "metadata": {},
   "outputs": [],
   "source": [
    "working_dir = \"saves/autoenc/rnnpb20000\""
   ]
  },
  {
   "cell_type": "code",
   "execution_count": 3,
   "metadata": {},
   "outputs": [],
   "source": [
    "data = Dataset(\"data/autoenc/easy20000/train.en\", \"data/autoenc/easy20000/train.en\", 1, \n",
    "               vocab = os.path.join(working_dir, \"vocab\"))"
   ]
  },
  {
   "cell_type": "code",
   "execution_count": 4,
   "metadata": {},
   "outputs": [],
   "source": [
    "with open(os.path.join(working_dir, \"model.json\"), \"r\") as f:\n",
    "    model_json = json.loads(f.read())\n",
    "\n",
    "model_name = model_json[\"model_name\"]\n",
    "reverse_source = model_json[\"reverse_source\"]\n",
    "model_params = model_json[\"model_params\"]\n",
    "\n",
    "model = RNNPBNMT(vocab1_size = data.first.vocab_size, vocab2_size = data.second.vocab_size, working_dir=working_dir, **model_params)"
   ]
  },
  {
   "cell_type": "code",
   "execution_count": 5,
   "metadata": {},
   "outputs": [
    {
     "data": {
      "text/plain": [
       "<tensorflow.python.training.tracking.util.CheckpointLoadStatus at 0x7fb834a19ac8>"
      ]
     },
     "execution_count": 5,
     "metadata": {},
     "output_type": "execute_result"
    }
   ],
   "source": [
    "checkpoint = model.get_checkp()\n",
    "checkpoint = tf.train.Checkpoint(**checkpoint)\n",
    "newest = tf.train.latest_checkpoint(os.path.join(working_dir, \"checkpoints\"))\n",
    "assert newest is not None\n",
    "checkpoint.restore(newest)"
   ]
  },
  {
   "cell_type": "code",
   "execution_count": 6,
   "metadata": {},
   "outputs": [],
   "source": [
    "def sentence_to_tensor(s, w2idx):\n",
    "    s = [w2idx.get(w, w2idx[\"<UNK>\"]) for w in s.split(\" \")]\n",
    "    x = tf.convert_to_tensor(s)\n",
    "    return x\n",
    "\n",
    "def tensor_to_sentence(x, idx2w):\n",
    "    return \" \".join(idx2w[i] for i in x)\n",
    "\n",
    "def translate(A, B, x, B_idx2w, eps=0.0001, return_pb = False):\n",
    "    x = tf.expand_dims(x, 0)\n",
    "    \n",
    "    pb = A.recognize(x, eps = eps)[0]\n",
    "    y = B.generate(pb, max_length = round(1.5 * len(x[0])), start=START, end=END)\n",
    "    \n",
    "    s = tensor_to_sentence(y, B_idx2w)\n",
    "    return (s, pb[0]) if return_pb else s\n"
   ]
  },
  {
   "cell_type": "code",
   "execution_count": 14,
   "metadata": {},
   "outputs": [],
   "source": [
    "colors = ['red', 'blue', 'green', 'black', 'orange', 'purple', 'pink', 'gray' ,'cyan', 'magenta']\n",
    "def plot_pbs(A_pbs, B_pbs, plot_zero = False):\n",
    "\n",
    "    pb_dim = A_pbs.shape[1]\n",
    "\n",
    "    pca = PCA(n_components = 2)\n",
    "    pca.fit(np.concatenate([A_pbs, B_pbs]))\n",
    "\n",
    "    A_pbs, B_pbs = pca.transform(A_pbs), pca.transform(B_pbs)\n",
    "\n",
    "    unis = np.random.uniform(size=A_pbs.shape[0])\n",
    "\n",
    "    for i in range(A_pbs.shape[0]):\n",
    "\n",
    "        color = colors[i]\n",
    "\n",
    "        for p, m in zip([A_pbs[i], B_pbs[i]], ['s', 'o']):\n",
    "            x, y = p\n",
    "\n",
    "            plt.scatter(x, y, c = color, marker=m)\n",
    "\n",
    "        legend_elements = [Line2D([0], [0], marker='o', color='w', label='Recognized', markerfacecolor='white', markeredgecolor='black', markersize=7),\n",
    "                           Line2D([0], [0], marker='s', color='w', label='Trained', markerfacecolor='white', markeredgecolor='black', markersize=7)]\n",
    "        plt.legend(handles=legend_elements)\n",
    "\n",
    "    if plot_zero:\n",
    "        z = pca.transform(np.zeros((1, pb_dim)))\n",
    "        x, y = z[0]\n",
    "        plt.scatter(x, y, c='black', marker='+')\n",
    "    \n",
    "    plt.xlabel(\"First component\")\n",
    "    plt.ylabel(\"Second component\")\n",
    "    plt.savefig(\"plot.png\", dpi=1000, bbox_inches = 'tight', pad_inches = 0.1)\n",
    "    plt.show()"
   ]
  },
  {
   "cell_type": "code",
   "execution_count": 8,
   "metadata": {},
   "outputs": [],
   "source": [
    "def calculate_perplexity(x, x_length, pb):\n",
    "    x_inp = x[:, :-1]\n",
    "    x_tar = x[:, 1:]\n",
    "    \n",
    "    logits, _, _ = model.A(x_inp, pbs=pb)\n",
    "    \n",
    "    _, perplexity = model.loss(logits=logits, targets=x_tar, target_lengths = x_length - 1)\n",
    "    \n",
    "    return perplexity\n",
    "    "
   ]
  },
  {
   "cell_type": "code",
   "execution_count": 9,
   "metadata": {
    "scrolled": true
   },
   "outputs": [
    {
     "name": "stderr",
     "output_type": "stream",
     "text": [
      "WARNING: Logging before flag parsing goes to stderr.\n",
      "W0703 16:59:27.362489 140430838925120 deprecation.py:323] From /home/daniel/venv/lib/python3.6/site-packages/tensorflow/python/keras/backend.py:3868: add_dispatch_support.<locals>.wrapper (from tensorflow.python.ops.array_ops) is deprecated and will be removed in a future version.\n",
      "Instructions for updating:\n",
      "Use tf.where in 2.0, which has the same broadcast rule as np.where\n"
     ]
    },
    {
     "name": "stdout",
     "output_type": "stream",
     "text": [
      "Recognition iteration 0 Loss 72.372\n",
      "Recognition iteration 100 Loss 0.443\n",
      "Recognition iteration 200 Loss 0.066\n",
      "Recognition iteration 300 Loss 0.033\n",
      "Recognition iteration 400 Loss 0.022\n",
      "Recognition finished, iteration 485 Loss 0.018\n",
      "Recognition iteration 0 Loss 81.764\n",
      "Recognition iteration 100 Loss 0.035\n",
      "Recognition iteration 200 Loss 0.006\n",
      "Recognition finished, iteration 216 Loss 0.006\n",
      "Recognition iteration 0 Loss 73.415\n",
      "Recognition iteration 100 Loss 4.876\n",
      "Recognition iteration 200 Loss 0.016\n",
      "Recognition finished, iteration 293 Loss 0.006\n",
      "Recognition iteration 0 Loss 69.547\n",
      "Recognition iteration 100 Loss 0.145\n",
      "Recognition iteration 200 Loss 0.032\n",
      "Recognition iteration 300 Loss 0.019\n",
      "Recognition iteration 400 Loss 0.010\n",
      "Recognition finished, iteration 427 Loss 0.009\n",
      "Recognition iteration 0 Loss 53.837\n",
      "Recognition iteration 100 Loss 0.095\n",
      "Recognition iteration 200 Loss 0.030\n",
      "Recognition iteration 300 Loss 0.020\n",
      "Recognition iteration 400 Loss 0.015\n",
      "Recognition finished, iteration 405 Loss 0.015\n",
      "Recognition iteration 0 Loss 82.425\n",
      "Recognition iteration 100 Loss 0.154\n",
      "Recognition iteration 200 Loss 0.058\n",
      "Recognition iteration 300 Loss 0.036\n",
      "Recognition iteration 400 Loss 0.029\n",
      "Recognition finished, iteration 500 Loss 0.024\n",
      "Recognition iteration 0 Loss 109.321\n",
      "Recognition iteration 100 Loss 0.024\n",
      "Recognition iteration 200 Loss 0.011\n",
      "Recognition finished, iteration 267 Loss 0.008\n",
      "Recognition iteration 0 Loss 71.620\n",
      "Recognition iteration 100 Loss 0.047\n",
      "Recognition iteration 200 Loss 0.009\n",
      "Recognition finished, iteration 263 Loss 0.006\n",
      "Recognition iteration 0 Loss 49.622\n",
      "Recognition iteration 100 Loss 0.060\n",
      "Recognition iteration 200 Loss 0.018\n",
      "Recognition iteration 300 Loss 0.009\n",
      "Recognition finished, iteration 349 Loss 0.007\n",
      "Recognition iteration 0 Loss 55.319\n",
      "Recognition iteration 100 Loss 0.016\n",
      "Recognition iteration 200 Loss 0.005\n",
      "Recognition finished, iteration 227 Loss 0.003\n"
     ]
    }
   ],
   "source": [
    "examples = [row for _, row in zip(range(10), data)]\n",
    "\n",
    "train_pbs = []\n",
    "rec_pbs = []\n",
    "train_perplexities, rec_perplexities = [], []\n",
    "for X, X_length, Y, Y_length, ids in examples:\n",
    "    _, _, train_pb = model.A(X, ids)\n",
    "    train_pbs.append(train_pb[0])\n",
    "    \n",
    "    rec_pb = model.A.recognize(X)\n",
    "    rec_pbs.append(rec_pb[0])\n",
    "    \n",
    "    train_perplexities.append(calculate_perplexity(X, X_length, train_pb))\n",
    "    rec_perplexities.append(calculate_perplexity(X, X_length, rec_pb))"
   ]
  },
  {
   "cell_type": "code",
   "execution_count": 10,
   "metadata": {},
   "outputs": [
    {
     "name": "stdout",
     "output_type": "stream",
     "text": [
      "Train perp 1.0234054327011108\n",
      "Recog perp 1.0012212991714478\n"
     ]
    }
   ],
   "source": [
    "A = np.array(train_pbs)\n",
    "B = np.array(rec_pbs)\n",
    "\n",
    "print(\"Train perp\", float(tf.reduce_mean(train_perplexities)))\n",
    "print(\"Recog perp\", float(tf.reduce_mean(rec_perplexities)))"
   ]
  },
  {
   "cell_type": "code",
   "execution_count": 15,
   "metadata": {},
   "outputs": [
    {
     "data": {
      "image/png": "[encoded data removed]",
      "text/plain": [
       "<Figure size 648x432 with 1 Axes>"
      ]
     },
     "metadata": {},
     "output_type": "display_data"
    }
   ],
   "source": [
    "plt.figure(num=1, figsize=(9, 6))\n",
    "plot_pbs(A, B, plot_zero=True)"
   ]
  },
  {
   "cell_type": "code",
   "execution_count": 12,
   "metadata": {},
   "outputs": [
    {
     "data": {
      "image/png": "[encoded data removed]",
      "text/plain": [
       "<Figure size 432x288 with 1 Axes>"
      ]
     },
     "metadata": {},
     "output_type": "display_data"
    }
   ],
   "source": [
    "rnnpbs = [\"saves/autoenc/rnnpb20000\", \"saves/autoenc/rnnpb50000\", \"saves/autoenc/rnnpbfull\"]\n",
    "encdecs = [\"saves/autoenc/encdec20000\", \"saves/autoenc/encdec50000\", \"saves/autoenc/encdecfull\"]\n",
    "\n",
    "for models, line in zip([rnnpbs, encdecs], ['-', '--']):\n",
    "    for i, model in enumerate(models):\n",
    "        with open(os.path.join(model, \"training_stats.json\"), 'r') as f:\n",
    "            stats = json.loads(f.read())\n",
    "        \n",
    "        dev_perps = stats['dev_perplexities']\n",
    "        \n",
    "        plt.plot(dev_perps)\n",
    "\n",
    "plt.show()"
   ]
  },
  {
   "cell_type": "code",
   "execution_count": 13,
   "metadata": {},
   "outputs": [
    {
     "data": {
      "image/png": "[encoded data removed]",
      "text/plain": [
       "<Figure size 432x288 with 1 Axes>"
      ]
     },
     "metadata": {},
     "output_type": "display_data"
    }
   ],
   "source": [
    "encdec_time_per_batch = []\n",
    "rnnpb_time_per_batch = []\n",
    "for models, time_per_batch in zip([rnnpbs, encdecs], [rnnpb_time_per_batch, encdec_time_per_batch]):\n",
    "    for i, model in enumerate(models):\n",
    "        with open(os.path.join(model, \"training_stats.json\"), 'r') as f:\n",
    "            stats = json.loads(f.read())\n",
    "        \n",
    "        training_time = stats['training_time']\n",
    "        \n",
    "        num_batches = len(stats['batch_losses'])\n",
    "        \n",
    "        time_per_batch.append(training_time / num_batches)\n",
    "\n",
    "plt.figure()\n",
    "plt.plot(encdec_time_per_batch)\n",
    "plt.plot(rnnpb_time_per_batch)\n",
    "\n",
    "plt.show()"
   ]
  },
  {
   "cell_type": "code",
   "execution_count": null,
   "metadata": {},
   "outputs": [],
   "source": []
  }
 ],
 "metadata": {
  "kernelspec": {
   "display_name": "ipy-jupyter-venv",
   "language": "python",
   "name": "myipy_jupter_env"
  },
  "language_info": {
   "codemirror_mode": {
    "name": "ipython",
    "version": 3
   },
   "file_extension": ".py",
   "mimetype": "text/x-python",
   "name": "python",
   "nbconvert_exporter": "python",
   "pygments_lexer": "ipython3",
   "version": "3.6.5"
  }
 },
 "nbformat": 4,
 "nbformat_minor": 2
}
